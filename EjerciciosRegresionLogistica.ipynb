{
 "cells": [
  {
   "cell_type": "code",
   "execution_count": 1,
   "metadata": {},
   "outputs": [],
   "source": [
    "suppressMessages(library(ggplot2))\n",
    "suppressMessages(library(grid))\n",
    "suppressMessages(library(grDevices))"
   ]
  },
  {
   "cell_type": "markdown",
   "metadata": {},
   "source": [
    "**Ejercicio 1:** \n",
    "\n",
    "Investigue que algoritmo utiliza el método glm de R para ajustar una regresión logística.\n",
    "\n",
    "1. Describa brevemente lo investigado, incluyendo ventajas y desventajas frente a otras estrategias.\n",
    "\n",
    "2. Describa los parámetros que provee glm para controlar el método iterativo de ajuste."
   ]
  },
  {
   "cell_type": "markdown",
   "metadata": {},
   "source": [
    "**Ejercicio 2:**\n",
    "1. Defina una muestra de sus datos, de manera de obtener un conjunto de datos equilibrados.\n",
    "2. Rehaga el ajuste de la regresión logística y concluya. "
   ]
  },
  {
   "cell_type": "markdown",
   "metadata": {},
   "source": [
    "**Ejercicio 3**: \n",
    "1. Considere el conjunto de datos \"data_prep.csv\". Defina la variable activo = 1 si el estudiante tiene un time_total > 300, 0 si no. \n",
    "2. Desarrolle un análisis exploratorio de estos datos considerando como variable a explicar (predecir) la variable activo y  explorando el potencial predictor de las variables pretest y las variables motivacionales Fi, CBi, Vi, MApi, PApi.\n",
    "3. Ajuste una regresión logística a sus datos\n",
    "4. Evalue la calidad de la clasificación y concluya.\n"
   ]
  },
  {
   "cell_type": "code",
   "execution_count": 72,
   "metadata": {},
   "outputs": [
    {
     "data": {
      "text/plain": [
       "     student           social       gender    take_exam        Fi        \n",
       " user0003:  1   individual:335   female:144   no  :127   Min.   :0.0000  \n",
       " user0004:  1   social    :350   male  :492   yes :553   1st Qu.:0.5000  \n",
       " user0005:  1                    NA's  : 49   NA's:  5   Median :0.5800  \n",
       " user0006:  1                                            Mean   :0.5651  \n",
       " user0007:  1                                            3rd Qu.:0.6700  \n",
       " user0008:  1                                            Max.   :1.0000  \n",
       " (Other) :679                                            NA's   :49      \n",
       "      CBi               Vi              MApi            PApi      \n",
       " Min.   :0.0000   Min.   :0.0000   Min.   :0.060   Min.   :0.000  \n",
       " 1st Qu.:0.3500   1st Qu.:0.6000   1st Qu.:0.610   1st Qu.:0.440  \n",
       " Median :0.5000   Median :0.6700   Median :0.720   Median :0.610  \n",
       " Mean   :0.5042   Mean   :0.7015   Mean   :0.693   Mean   :0.574  \n",
       " 3rd Qu.:0.6500   3rd Qu.:0.8000   3rd Qu.:0.830   3rd Qu.:0.720  \n",
       " Max.   :1.0000   Max.   :1.0000   Max.   :1.000   Max.   :1.000  \n",
       " NA's   :49       NA's   :49       NA's   :49      NA's   :49     \n",
       "   total_time    total_activity      qp_time         wa_time       \n",
       " Min.   :    0   Min.   :   0.0   Min.   :    0   Min.   :    0.0  \n",
       " 1st Qu.:    0   1st Qu.:   0.0   1st Qu.:    0   1st Qu.:    0.0  \n",
       " Median :   34   Median :   2.0   Median :    0   Median :    0.0  \n",
       " Mean   : 1494   Mean   : 130.3   Mean   : 1052   Mean   :  441.2  \n",
       " 3rd Qu.: 1639   3rd Qu.: 165.0   3rd Qu.: 1174   3rd Qu.:  371.0  \n",
       " Max.   :26628   Max.   :1209.0   Max.   :14815   Max.   :16890.0  \n",
       "                                                                   \n",
       "  qp_activity      wa_activity    total_time_be     total_activity_be\n",
       " Min.   :  0.00   Min.   :  0.0   Min.   :    0.0   Min.   :   0.00  \n",
       " 1st Qu.:  0.00   1st Qu.:  0.0   1st Qu.:    0.0   1st Qu.:   0.00  \n",
       " Median :  0.00   Median :  0.0   Median :    0.0   Median :   0.00  \n",
       " Mean   : 25.33   Mean   :104.9   Mean   :  749.8   Mean   :  69.57  \n",
       " 3rd Qu.: 31.00   3rd Qu.:118.0   3rd Qu.:  556.0   3rd Qu.:  69.00  \n",
       " Max.   :367.00   Max.   :913.0   Max.   :18459.0   Max.   :1046.00  \n",
       "                                                                     \n",
       "    pretest          posttest        exam_norm          lgain_pp     \n",
       " Min.   :0.0000   Min.   :0.0000   Min.   :-1.0000   Min.   :  -Inf  \n",
       " 1st Qu.:0.0900   1st Qu.:0.4500   1st Qu.: 0.5100   1st Qu.:0.2195  \n",
       " Median :0.1800   Median :0.6400   Median : 0.8000   Median :0.5069  \n",
       " Mean   :0.2251   Mean   :0.5996   Mean   : 0.4474   Mean   :  -Inf  \n",
       " 3rd Qu.:0.2700   3rd Qu.:0.8200   3rd Qu.: 0.9000   3rd Qu.:0.7300  \n",
       " Max.   :1.0000   Max.   :1.0000   Max.   : 1.0000   Max.   :1.0000  \n",
       " NA's   :47       NA's   :252                        NA's   :265     \n",
       "    lgain_pe     \n",
       " Min.   :  -Inf  \n",
       " 1st Qu.:0.5854  \n",
       " Median :0.7927  \n",
       " Mean   :  -Inf  \n",
       " 3rd Qu.:0.8903  \n",
       " Max.   :1.0000  \n",
       " NA's   :154     "
      ]
     },
     "metadata": {},
     "output_type": "display_data"
    }
   ],
   "source": [
    "#datos que incluyen actividad\n",
    "datos2 <- read.csv(\"data/data_prep.csv\",header=TRUE,sep=\",\")\n",
    "summary(datos2)\n"
   ]
  }
 ],
 "metadata": {
  "kernelspec": {
   "display_name": "R",
   "language": "R",
   "name": "ir"
  },
  "language_info": {
   "codemirror_mode": "r",
   "file_extension": ".r",
   "mimetype": "text/x-r-source",
   "name": "R",
   "pygments_lexer": "r",
   "version": "3.6.1"
  }
 },
 "nbformat": 4,
 "nbformat_minor": 4
}
